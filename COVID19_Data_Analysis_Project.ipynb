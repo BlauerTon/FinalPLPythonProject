{
 "cells": [
  {
   "cell_type": "markdown",
   "id": "3ad34170",
   "metadata": {},
   "source": [
    "# COVID-19 Data Analysis Project\n",
    "This notebook analyzes global COVID-19 trends using real-world data."
   ]
  },
  {
   "cell_type": "markdown",
   "id": "38a81d45",
   "metadata": {},
   "source": [
    "## 1. Data Collection\n",
    "We use the [Our World in Data COVID-19 Dataset](https://covid.ourworldindata.org/data/owid-covid-data.csv)."
   ]
  },
  {
   "cell_type": "code",
   "execution_count": null,
   "id": "02e24b6e",
   "metadata": {},
   "outputs": [],
   "source": [
    "import pandas as pd\n",
    "\n",
    "df = pd.read_csv('owid-covid-data.csv')"
   ]
  },
  {
   "cell_type": "markdown",
   "id": "04c8cfc1",
   "metadata": {},
   "source": [
    "## 2. Data Exploration\n",
    "Explore structure and missing values."
   ]
  },
  {
   "cell_type": "code",
   "execution_count": null,
   "id": "7ffc94a2",
   "metadata": {},
   "outputs": [],
   "source": [
    "df.columns"
   ]
  },
  {
   "cell_type": "code",
   "execution_count": null,
   "id": "182eef91",
   "metadata": {},
   "outputs": [],
   "source": [
    "df.head()"
   ]
  },
  {
   "cell_type": "code",
   "execution_count": null,
   "id": "27c92741",
   "metadata": {},
   "outputs": [],
   "source": [
    "df.isnull().sum()"
   ]
  },
  {
   "cell_type": "markdown",
   "id": "ac041227",
   "metadata": {},
   "source": [
    "## 3. Data Cleaning\n",
    "Filter relevant countries and prepare columns."
   ]
  },
  {
   "cell_type": "code",
   "execution_count": null,
   "id": "556e6e44",
   "metadata": {},
   "outputs": [],
   "source": [
    "countries = ['Kenya', 'United States', 'India']\n",
    "df = df[df['location'].isin(countries)]\n",
    "df['date'] = pd.to_datetime(df['date'])\n",
    "df = df.dropna(subset=['date', 'total_cases', 'total_deaths'])\n",
    "df.fillna(method='ffill', inplace=True)"
   ]
  },
  {
   "cell_type": "markdown",
   "id": "929565f4",
   "metadata": {},
   "source": [
    "## 4. Exploratory Data Analysis (EDA)\n",
    "Visualize total cases, deaths and compute death rate."
   ]
  },
  {
   "cell_type": "code",
   "execution_count": null,
   "id": "8901aaf6",
   "metadata": {},
   "outputs": [],
   "source": [
    "import matplotlib.pyplot as plt\n",
    "import seaborn as sns\n",
    "\n",
    "# Total cases over time\n",
    "plt.figure(figsize=(12, 6))\n",
    "for country in countries:\n",
    "    temp = df[df['location'] == country]\n",
    "    plt.plot(temp['date'], temp['total_cases'], label=country)\n",
    "plt.title('Total COVID-19 Cases Over Time')\n",
    "plt.legend()\n",
    "plt.show()"
   ]
  },
  {
   "cell_type": "code",
   "execution_count": null,
   "id": "b768c642",
   "metadata": {},
   "outputs": [],
   "source": [
    "# Total deaths over time\n",
    "plt.figure(figsize=(12, 6))\n",
    "for country in countries:\n",
    "    temp = df[df['location'] == country]\n",
    "    plt.plot(temp['date'], temp['total_deaths'], label=country)\n",
    "plt.title('Total COVID-19 Deaths Over Time')\n",
    "plt.legend()\n",
    "plt.show()"
   ]
  },
  {
   "cell_type": "code",
   "execution_count": null,
   "id": "6f73ebaf",
   "metadata": {},
   "outputs": [],
   "source": [
    "df['death_rate'] = df['total_deaths'] / df['total_cases']\n",
    "df[['location', 'date', 'death_rate']].tail()"
   ]
  },
  {
   "cell_type": "markdown",
   "id": "cb98316f",
   "metadata": {},
   "source": [
    "## 5. Visualizing Vaccination Progress"
   ]
  },
  {
   "cell_type": "code",
   "execution_count": null,
   "id": "87a840e0",
   "metadata": {},
   "outputs": [],
   "source": [
    "plt.figure(figsize=(12, 6))\n",
    "for country in countries:\n",
    "    temp = df[df['location'] == country]\n",
    "    plt.plot(temp['date'], temp['total_vaccinations'], label=country)\n",
    "plt.title('Cumulative Vaccinations Over Time')\n",
    "plt.legend()\n",
    "plt.show()"
   ]
  },
  {
   "cell_type": "markdown",
   "id": "bc2a4018",
   "metadata": {},
   "source": [
    "## 6. Choropleth Map (Optional)"
   ]
  },
  {
   "cell_type": "code",
   "execution_count": null,
   "id": "7f2f6640",
   "metadata": {},
   "outputs": [],
   "source": [
    "import plotly.express as px\n",
    "\n",
    "latest = df[df['date'] == df['date'].max()]\n",
    "fig = px.choropleth(latest,\n",
    "                    locations='location',\n",
    "                    locationmode='country names',\n",
    "                    color='total_cases',\n",
    "                    title='Total COVID-19 Cases by Country')\n",
    "fig.show()"
   ]
  },
  {
   "cell_type": "markdown",
   "id": "54703eeb",
   "metadata": {},
   "source": [
    "## 7. Insights & Conclusion\n",
    "1. The United States had the highest total cases and deaths among the selected countries.\n",
    "2. India experienced a sharp rise in cases during the second wave around mid-2021.\n",
    "3. Kenya had a slower vaccine rollout compared to the USA and India.\n",
    "4. Death rates varied significantly, likely due to healthcare differences and early detection.\n",
    "5. Vaccination drives strongly correlated with drop in new cases post mid-2021.\n",
    "\n",
    "**Conclusion:**\n",
    "This analysis reveals the global impact of COVID-19 in different regions, highlighting disparities in vaccination and outcomes. Visualization helps communicate trends and guide health policies."
   ]
  }
 ],
 "metadata": {},
 "nbformat": 4,
 "nbformat_minor": 5
}
